{
  "cells": [
    {
      "cell_type": "markdown",
      "metadata": {
        "id": "view-in-github",
        "colab_type": "text"
      },
      "source": [
        "<a href=\"https://colab.research.google.com/github/owgee/big-data/blob/main/NASA_Log_Analysis.ipynb\" target=\"_parent\"><img src=\"https://colab.research.google.com/assets/colab-badge.svg\" alt=\"Open In Colab\"/></a>"
      ]
    },
    {
      "cell_type": "markdown",
      "id": "b71ba681-5bb6-4294-b94b-5f5056015581",
      "metadata": {
        "id": "b71ba681-5bb6-4294-b94b-5f5056015581"
      },
      "source": [
        "### NASA Log Analysis\n"
      ]
    },
    {
      "cell_type": "code",
      "execution_count": null,
      "id": "98d9e7db-ddda-4395-b7ce-ee32d69d02bd",
      "metadata": {
        "id": "98d9e7db-ddda-4395-b7ce-ee32d69d02bd",
        "outputId": "2628c26e-1ff5-40ab-f935-bb9a102560f7"
      },
      "outputs": [
        {
          "name": "stderr",
          "output_type": "stream",
          "text": [
            "24/04/02 00:59:44 WARN Utils: Your hostname, OGs-M2-Pro.local resolves to a loopback address: 127.0.0.1; using 192.168.4.6 instead (on interface en0)\n",
            "24/04/02 00:59:44 WARN Utils: Set SPARK_LOCAL_IP if you need to bind to another address\n",
            "Setting default log level to \"WARN\".\n",
            "To adjust logging level use sc.setLogLevel(newLevel). For SparkR, use setLogLevel(newLevel).\n",
            "24/04/02 00:59:45 WARN NativeCodeLoader: Unable to load native-hadoop library for your platform... using builtin-java classes where applicable\n",
            "                                                                                \r"
          ]
        }
      ],
      "source": [
        "from pyspark.sql import SparkSession\n",
        "from pyspark.sql.functions import col\n",
        "\n",
        "# Create a SparkSession\n",
        "spark = SparkSession.builder.appName(\"NASA_Log_Analysis\").getOrCreate()\n",
        "\n",
        "# Read data from the CSV file in HDFS\n",
        "file_path = \"/hdfs/data.csv\"\n",
        "weblog_df = spark.read.csv(file_path, header=True, inferSchema=True)"
      ]
    },
    {
      "cell_type": "code",
      "execution_count": null,
      "id": "aa325724-9edf-4fe9-9547-528c699d0cfe",
      "metadata": {
        "id": "aa325724-9edf-4fe9-9547-528c699d0cfe",
        "outputId": "619bce9c-146c-4990-fdcb-5a1140ea0556"
      },
      "outputs": [
        {
          "name": "stdout",
          "output_type": "stream",
          "text": [
            "root\n",
            " |-- _c0: integer (nullable = true)\n",
            " |-- host: string (nullable = true)\n",
            " |-- time: integer (nullable = true)\n",
            " |-- method: string (nullable = true)\n",
            " |-- url: string (nullable = true)\n",
            " |-- response: integer (nullable = true)\n",
            " |-- bytes: integer (nullable = true)\n",
            "\n",
            "+---+-----------+---------+------+--------------------+--------+-----+\n",
            "|_c0|       host|     time|method|                 url|response|bytes|\n",
            "+---+-----------+---------+------+--------------------+--------+-----+\n",
            "|  0|***.novo.dk|805465029|   GET|           /ksc.html|     200| 7067|\n",
            "|  1|***.novo.dk|805465031|   GET|/images/ksclogo-m...|     200| 5866|\n",
            "|  2|***.novo.dk|805465051|   GET|/images/MOSAIC-lo...|     200|  363|\n",
            "|  3|***.novo.dk|805465053|   GET|/images/USA-logos...|     200|  234|\n",
            "|  4|***.novo.dk|805465054|   GET|/images/NASA-logo...|     200|  786|\n",
            "+---+-----------+---------+------+--------------------+--------+-----+\n",
            "only showing top 5 rows\n",
            "\n"
          ]
        },
        {
          "name": "stderr",
          "output_type": "stream",
          "text": [
            "24/04/02 01:02:19 WARN CSVHeaderChecker: CSV header does not conform to the schema.\n",
            " Header: , host, time, method, url, response, bytes\n",
            " Schema: _c0, host, time, method, url, response, bytes\n",
            "Expected: _c0 but found: \n",
            "CSV file: file:///Users/owdengodson/Documents/data.csv\n"
          ]
        }
      ],
      "source": [
        "# Show schema and sample data\n",
        "weblog_df.printSchema()\n",
        "weblog_df.show(5)"
      ]
    },
    {
      "cell_type": "markdown",
      "id": "ff923f8b-6a4f-4034-b622-e73753ed0118",
      "metadata": {
        "id": "ff923f8b-6a4f-4034-b622-e73753ed0118"
      },
      "source": [
        "#### Top-5 hosts accessing the most files"
      ]
    },
    {
      "cell_type": "code",
      "execution_count": null,
      "id": "9080c455-5036-4b6a-97f8-7c91ce1037c4",
      "metadata": {
        "id": "9080c455-5036-4b6a-97f8-7c91ce1037c4",
        "outputId": "859c46aa-94ea-433a-c55b-755945b3be8b"
      },
      "outputs": [
        {
          "name": "stderr",
          "output_type": "stream",
          "text": [
            "[Stage 5:>                                                          (0 + 3) / 3]\r"
          ]
        },
        {
          "name": "stdout",
          "output_type": "stream",
          "text": [
            "+--------------------+-----+\n",
            "|host                |count|\n",
            "+--------------------+-----+\n",
            "|piweba3y.prodigy.com|19258|\n",
            "|piweba4y.prodigy.com|14512|\n",
            "|edams.ksc.nasa.gov  |11472|\n",
            "|piweba1y.prodigy.com|10934|\n",
            "|163.206.89.4        |7859 |\n",
            "+--------------------+-----+\n",
            "\n"
          ]
        },
        {
          "name": "stderr",
          "output_type": "stream",
          "text": [
            "                                                                                \r"
          ]
        }
      ],
      "source": [
        "top_hosts_files = weblog_df.groupBy(\"host\").count().orderBy(col(\"count\").desc()).limit(5)\n",
        "top_hosts_files.show(truncate=False)"
      ]
    },
    {
      "cell_type": "markdown",
      "id": "994df519-f259-44b8-9aeb-1dc359b98e7f",
      "metadata": {
        "id": "994df519-f259-44b8-9aeb-1dc359b98e7f"
      },
      "source": [
        "#### Top-5 hosts accessing the most amount of data"
      ]
    },
    {
      "cell_type": "code",
      "execution_count": null,
      "id": "bc27a623-2c38-455c-9067-4b7911694550",
      "metadata": {
        "id": "bc27a623-2c38-455c-9067-4b7911694550",
        "outputId": "c784141f-e59f-43c0-d9f7-bd40cac795a6"
      },
      "outputs": [
        {
          "name": "stderr",
          "output_type": "stream",
          "text": [
            "[Stage 7:>                                                        (0 + 10) / 10]\r"
          ]
        },
        {
          "name": "stdout",
          "output_type": "stream",
          "text": [
            "+--------------------+-----------+\n",
            "|host                |total_bytes|\n",
            "+--------------------+-----------+\n",
            "|piweba3y.prodigy.com|402596858  |\n",
            "|piweba4y.prodigy.com|247448379  |\n",
            "|piweba1y.prodigy.com|236973233  |\n",
            "|alyssa.prodigy.com  |177885291  |\n",
            "|news.ti.com         |157004829  |\n",
            "+--------------------+-----------+\n",
            "\n"
          ]
        },
        {
          "name": "stderr",
          "output_type": "stream",
          "text": [
            "                                                                                \r"
          ]
        }
      ],
      "source": [
        "top_hosts_data = weblog_df.groupBy(\"host\").agg({\"bytes\": \"sum\"}).withColumnRenamed(\"sum(bytes)\", \"total_bytes\").orderBy(col(\"total_bytes\").desc()).limit(5)\n",
        "top_hosts_data.show(truncate=False)"
      ]
    },
    {
      "cell_type": "markdown",
      "id": "58e816fb-32fd-4338-b1fa-3155b4d62dea",
      "metadata": {
        "id": "58e816fb-32fd-4338-b1fa-3155b4d62dea"
      },
      "source": [
        "#### Top-5 files that are most frequently accessed"
      ]
    },
    {
      "cell_type": "code",
      "execution_count": null,
      "id": "902ed29b-f384-4b7d-a46a-3bb620983dfc",
      "metadata": {
        "id": "902ed29b-f384-4b7d-a46a-3bb620983dfc",
        "outputId": "a9626e0f-b9a0-4186-d133-2125bd3d4127"
      },
      "outputs": [
        {
          "name": "stderr",
          "output_type": "stream",
          "text": [
            "[Stage 10:============================>                            (5 + 5) / 10]\r"
          ]
        },
        {
          "name": "stdout",
          "output_type": "stream",
          "text": [
            "+----------------------------+------+\n",
            "|url                         |count |\n",
            "+----------------------------+------+\n",
            "|/images/NASA-logosmall.gif  |208798|\n",
            "|/images/KSC-logosmall.gif   |164976|\n",
            "|/images/MOSAIC-logosmall.gif|127916|\n",
            "|/images/USA-logosmall.gif   |127082|\n",
            "|/images/WORLD-logosmall.gif |125933|\n",
            "+----------------------------+------+\n",
            "\n"
          ]
        },
        {
          "name": "stderr",
          "output_type": "stream",
          "text": [
            "                                                                                \r"
          ]
        }
      ],
      "source": [
        "top_files_accessed = weblog_df.groupBy(\"url\").count().orderBy(col(\"count\").desc()).limit(5)\n",
        "top_files_accessed.show(truncate=False)"
      ]
    },
    {
      "cell_type": "markdown",
      "id": "1fb238f2-5f18-442e-a7ba-6b6c5bf7ff6d",
      "metadata": {
        "id": "1fb238f2-5f18-442e-a7ba-6b6c5bf7ff6d"
      },
      "source": [
        "#### Top-5 files contributing to the most internet traffic"
      ]
    },
    {
      "cell_type": "code",
      "execution_count": null,
      "id": "19f29e05-7206-4e99-b3b5-98631b783c6f",
      "metadata": {
        "id": "19f29e05-7206-4e99-b3b5-98631b783c6f",
        "outputId": "fb30e4ab-22eb-451c-fc2f-fb43380bf1e8"
      },
      "outputs": [
        {
          "name": "stderr",
          "output_type": "stream",
          "text": [
            "                                                                                \r"
          ]
        },
        {
          "name": "stdout",
          "output_type": "stream",
          "text": [
            "+------------------------------------------------------------+-----------+\n",
            "|url                                                         |total_bytes|\n",
            "+------------------------------------------------------------+-----------+\n",
            "|/shuttle/missions/sts-71/movies/sts-71-launch.mpg           |3196457118 |\n",
            "|/shuttle/missions/sts-71/movies/sts-71-mir-dock.mpg         |1409035595 |\n",
            "|/shuttle/missions/sts-71/movies/sts-71-tcdt-crew-walkout.mpg|1137114616 |\n",
            "|/shuttle/missions/sts-70/movies/sts-70-launch.mpg           |1098853893 |\n",
            "|/shuttle/technology/sts-newsref/stsref-toc.html             |1061408730 |\n",
            "+------------------------------------------------------------+-----------+\n",
            "\n"
          ]
        }
      ],
      "source": [
        "top_files_traffic = weblog_df.groupBy(\"url\").agg({\"bytes\": \"sum\"}).withColumnRenamed(\"sum(bytes)\", \"total_bytes\").orderBy(col(\"total_bytes\").desc()).limit(5)\n",
        "top_files_traffic.show(truncate=False)\n",
        "\n",
        "spark.stop()"
      ]
    }
  ],
  "metadata": {
    "kernelspec": {
      "display_name": "Python 3 (ipykernel)",
      "language": "python",
      "name": "python3"
    },
    "language_info": {
      "codemirror_mode": {
        "name": "ipython",
        "version": 3
      },
      "file_extension": ".py",
      "mimetype": "text/x-python",
      "name": "python",
      "nbconvert_exporter": "python",
      "pygments_lexer": "ipython3",
      "version": "3.11.5"
    },
    "colab": {
      "provenance": [],
      "include_colab_link": true
    }
  },
  "nbformat": 4,
  "nbformat_minor": 5
}